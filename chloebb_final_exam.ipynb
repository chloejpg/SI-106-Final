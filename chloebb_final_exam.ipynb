{
 "cells": [
  {
   "cell_type": "markdown",
   "metadata": {
    "id": "f04ee87b-58c4-402b-ba54-084c881551a5",
    "source-id": "90383b9e-29b3-46d2-91bb-6f781c2df91e"
   },
   "source": [
    "# SI 106 Winter 2020\n",
    "# Chloe Bouquet Brown - Final Exam\n",
    "\n",
    "This exam is for Chloe Bouquet Brown (chloebb). If that is not you, you have opened the wrong file. This exam is worth 250 points. There are 23 problems.\n",
    "\n",
    "Please be sure you are on [Slack](https://si106.slack.com/) and [Zoom](https://zoom.us/j/256579011) in case there are any announcements during the exam.\n",
    "\n",
    "If you have technical difficulties during the exam or need clarification on a question, please contact Professor Oney on Slack immediately.\n",
    "\n",
    "## Notes:\n",
    "- The answers towards the beginning of the exam should be shorter and easier. The answers toward the end will be more difficult.\n",
    "- Try to avoid getting fixated on one problem. Try to attempt every problem.\n",
    "- You may receive partial credit for answers that are partially complete.\n",
    "- Passing all of the tests is not a guarantee that your solution is correct.\n",
    "- Hard-coded answers will receive no credit\n",
    "- **Uploading your exam past the due time is equivalent to not turning it in at all.**\n",
    "---"
   ]
  },
  {
   "cell_type": "markdown",
   "metadata": {
    "id": "1ea4d64c-1665-46ce-b6ce-e3bb95bf4cd4",
    "source-id": "525f325e-ff11-4812-9b81-313f4e897a21"
   },
   "source": [
    "# Problem 1\n",
    "Define a function named `lastElement()` that accepts a list and returns the last element in that list. If the list is empty, `lastElement` should return `False` *(5 points)*"
   ]
  },
  {
   "cell_type": "code",
   "execution_count": 155,
   "metadata": {
    "id": "8f916c61-6fb0-47c4-8795-2092d978f237",
    "source-id": "e6e95e7b-bd6e-49ca-bdc0-aa073e95273f"
   },
   "outputs": [],
   "source": [
    "def lastElement(L):\n",
    "    if L == []:\n",
    "        return False\n",
    "    else:\n",
    "        return L[-1]"
   ]
  },
  {
   "cell_type": "code",
   "execution_count": 156,
   "metadata": {
    "id": "d4275599-f455-4998-9f3c-de1c383d4086",
    "source-id": "60b198b5-b1e5-468e-b1a1-59ca6b1a3fcb"
   },
   "outputs": [],
   "source": [
    "assert lastElement([2,3,4]) == 4\n",
    "assert lastElement([]) == False"
   ]
  },
  {
   "cell_type": "markdown",
   "metadata": {
    "id": "75bedd5b-65ee-4eaf-90ab-79473cfb08c6",
    "source-id": "cef7ad65-8001-4fa4-912a-4331c84a2028"
   },
   "source": [
    "# Problem 2\n",
    "Below, we have provided a list of tuples that contain students’ names and their final grades in PYTHON 101. Using **list comprehension**, create a new list `passed` that contains the names of students who passed the class (had a final grade of `70` or greater). *(5 points)*\n",
    "\n",
    "```python\n",
    "students = [('Tommy', 95), ('Linda', 63), ('Carl', 70), ('Bob', 100), ('Raymond', 50), ('Sue', 75)]\n",
    "```"
   ]
  },
  {
   "cell_type": "code",
   "execution_count": 157,
   "metadata": {
    "id": "e5b6a670-9cae-4cba-a0b3-5e1cf7c80ef9",
    "source-id": "680f1b23-a7ed-4052-8d4a-b8d895cc3662"
   },
   "outputs": [],
   "source": [
    "students = [('Tommy', 95), ('Linda', 63), ('Carl', 70), ('Bob', 100), ('Raymond', 50), ('Sue', 75)]\n",
    "\n",
    "passed = [x[0] for x in students if x[1] >= 70]"
   ]
  },
  {
   "cell_type": "code",
   "execution_count": 158,
   "metadata": {
    "id": "903aaa30-e8ac-4b88-acbf-5cdac00ae81e",
    "source-id": "c40924c7-8161-4e27-a63f-9000736fae87"
   },
   "outputs": [],
   "source": [
    "# Note: we will manually check that your code uses list comprehension\n",
    "assert passed == ['Tommy', 'Carl', 'Bob', 'Sue']"
   ]
  },
  {
   "cell_type": "markdown",
   "metadata": {
    "id": "bf274ea7-4fa2-4fa2-954c-1f0562220bed",
    "source-id": "75275bdc-d031-4aba-b8c6-38cafba884b9"
   },
   "source": [
    "# Problem 3\n",
    "Define a function named `xCount` that accepts one argument (a string) and returns an integer-the number of times the character `'x'` (capital `'X'` or lowercase `'X'`) appears in the string.  *(5 points)*"
   ]
  },
  {
   "cell_type": "code",
   "execution_count": 159,
   "metadata": {
    "id": "c0d8cdf2-c9a1-4db9-88ec-dac29ea9488f",
    "source-id": "85ab4c4d-a412-493d-b457-3d87ca57806e"
   },
   "outputs": [],
   "source": [
    "def xCount(s):\n",
    "    count = 0\n",
    "    for i in s:\n",
    "        if i.lower() == 'x':\n",
    "            count += 1\n",
    "    return count"
   ]
  },
  {
   "cell_type": "code",
   "execution_count": 160,
   "metadata": {
    "id": "327ad26c-1146-4cea-b49b-b2133cb21a08",
    "source-id": "cfd4d649-debe-432f-b5c0-652415df7f60"
   },
   "outputs": [],
   "source": [
    "assert xCount('Xbox') == 2\n",
    "assert xCount('abc') == 0"
   ]
  },
  {
   "cell_type": "markdown",
   "metadata": {
    "id": "eb1a5941-77ea-4630-a2e8-8a4fe6eff673",
    "source-id": "7af4037d-b609-45b3-8074-f3c0f67b901e"
   },
   "source": [
    "# Problem 4\n",
    "Define a function named `lastTwoElements()` that accepts a list and returns a list containing the last two elements of the original list. If there are fewer than two items in the list, it should return the original list. *(5 points)*"
   ]
  },
  {
   "cell_type": "code",
   "execution_count": 161,
   "metadata": {
    "id": "61f6802c-c36b-4d64-96ce-c07232dcf2ab",
    "source-id": "5a303a2e-4cd6-4209-aab3-8118c2b2c8e4"
   },
   "outputs": [],
   "source": [
    "def lastTwoElements(L):\n",
    "    if len(L) < 2:\n",
    "        return L\n",
    "    else:\n",
    "        return L[-2:]"
   ]
  },
  {
   "cell_type": "code",
   "execution_count": 162,
   "metadata": {
    "id": "3cdee035-3f45-4801-9198-8e8ec50063e2",
    "source-id": "6e6115eb-1bd3-4d81-9c70-a6420ac33dc6"
   },
   "outputs": [],
   "source": [
    "assert lastTwoElements([1,2,3,4,5]) == [4,5]\n",
    "assert lastTwoElements(['a', 'b']) == ['a', 'b']\n",
    "assert lastTwoElements([900]) == [900]\n",
    "assert lastTwoElements([]) == []"
   ]
  },
  {
   "cell_type": "markdown",
   "metadata": {
    "id": "dcafa8d9-c12a-4d6a-9e05-0de3b57ec238",
    "source-id": "63ad975d-8992-43a3-a6cf-ece06e6c3048"
   },
   "source": [
    "# Problem 5\n",
    "Define a function named `myRandomInteger()` that accepts two arguments: `min` (with a default value of `0`) and `max` (with a default value of `10`). `myRandomInteger()` should return a random integer (round number) between `min` and `max` (including `min` and `max`). Your code should use [the `random.randint()` function](https://docs.python.org/3/library/random.html#random.randint). *(5 points)*"
   ]
  },
  {
   "cell_type": "code",
   "execution_count": 163,
   "metadata": {
    "id": "b420c25e-e31f-4e50-97ab-d103727d67e9",
    "source-id": "d0ba8af4-a07c-4ae3-9bc0-84e18bbf7eb0"
   },
   "outputs": [],
   "source": [
    "import random\n",
    "\n",
    "def myRandomInteger(min = 0, max = 10):\n",
    "    return random.randint(min, max)"
   ]
  },
  {
   "cell_type": "code",
   "execution_count": 164,
   "metadata": {
    "id": "d38d7378-be64-413d-903e-e67ce499a497",
    "source-id": "b243c1ee-e445-481d-a7b0-05d2b4334719"
   },
   "outputs": [],
   "source": [
    "# Note: we repeat our tests to see if there is eventually a number that is out of bounds\n",
    "for _ in range(100):\n",
    "    n1 = myRandomInteger()\n",
    "    n2 = myRandomInteger(min = -5)\n",
    "    n3 = myRandomInteger(max = 100, min=50)\n",
    "    \n",
    "    assert type(n1) == int, 'myRandomInteger() should return an integer'\n",
    "\n",
    "    assert n1 >= 0  and n1 <= 10,  'myRandomInteger() generated {}, which is not between 0 and 10'.format(n1)\n",
    "    assert n2 >= -5 and n2 <= 10,  'myRandomInteger(min=-5) generated {}, which is not between -5 and 10'.format(n2)\n",
    "    assert n3 >= 50 and n3 <= 100, 'myRandomInteger(max = 100, min=50) generated {}, which is not between 50 and 100'.format(n3)\n",
    "    "
   ]
  },
  {
   "cell_type": "markdown",
   "metadata": {
    "id": "5933a024-ae5c-42e3-8229-9474aa62dca3",
    "source-id": "34eb8662-1e7f-435a-80c2-1ba1b1811628"
   },
   "source": [
    "# Problem 6\n",
    "Define a function named `sortBySecond` that accepts a list of tuples as an argument and returns those tuples, but sorted by the **second** item in every tuple (low to high). *(5 points)*"
   ]
  },
  {
   "cell_type": "code",
   "execution_count": 165,
   "metadata": {
    "id": "bc51d607-9506-4690-a9be-a6d3a599c6d3",
    "source-id": "e67bbf9d-5b7d-4afc-b3af-01c04cf39d66"
   },
   "outputs": [],
   "source": [
    "def sortBySecond(L):\n",
    "    return sorted(L, key = lambda x: x[1])"
   ]
  },
  {
   "cell_type": "code",
   "execution_count": 166,
   "metadata": {
    "id": "e88d4de3-fb5d-4ffc-97d7-b8253189cc5c",
    "source-id": "2915b875-f815-497b-8505-44e7143833a6"
   },
   "outputs": [],
   "source": [
    "assert sortBySecond([('a', 3), ('b', 2), ('c', 4), ('d', 1)]) == [('d', 1), ('b', 2), ('a', 3), ('c', 4)]"
   ]
  },
  {
   "cell_type": "markdown",
   "metadata": {
    "id": "e64fac6e-93a7-4d0a-b509-512be80ff197",
    "source-id": "34d277c4-1210-4c5b-95be-83a4f27eddcd"
   },
   "source": [
    "# Problem 7\n",
    "Define a function `numGreaterThan20` that accepts a list of numbers as input and returns the number (count) of items that are numbers greater than (or equal to) `20`. You may assume every item in the list is a number. *(5 points)*"
   ]
  },
  {
   "cell_type": "code",
   "execution_count": 167,
   "metadata": {
    "id": "1d9994f7-c95d-466c-b940-66a90f5285b1",
    "source-id": "d98aff59-154f-48c6-ab57-12fa4d6140d3"
   },
   "outputs": [],
   "source": [
    "def numGreaterThan20(L):\n",
    "    count = 0\n",
    "    for i in L:\n",
    "        if i >= 20:\n",
    "            count += 1\n",
    "    return count"
   ]
  },
  {
   "cell_type": "code",
   "execution_count": 168,
   "metadata": {
    "id": "fe7d7970-c1c5-42ce-8d4d-a669bf6b0bc7",
    "source-id": "be1c091e-ebcf-4791-a4ae-3046d5a569df"
   },
   "outputs": [],
   "source": [
    "assert numGreaterThan20([1,2,3]) == 0\n",
    "assert numGreaterThan20([20, 30, 20.5, 10, 50]) == 4\n",
    "assert numGreaterThan20([20]) == 1"
   ]
  },
  {
   "cell_type": "markdown",
   "metadata": {
    "id": "5b4e025a-5dac-4675-92f3-b5a8bb8ecf57",
    "source-id": "18c49ae3-2386-45bf-880c-d26f2a94c83b"
   },
   "source": [
    "# Problem 8\n",
    "Define a function `indexOf30` that accepts a list as input and returns the leftmost index of the value `30`. If `30` is not in the list, it should return `False`. *(10 points)*"
   ]
  },
  {
   "cell_type": "code",
   "execution_count": 169,
   "metadata": {
    "id": "2294d6a0-0b57-42f7-ac53-4977b87b403d",
    "source-id": "fc029733-3951-44b8-90ea-0b6a4e756a5a"
   },
   "outputs": [],
   "source": [
    "def indexOf30(L):\n",
    "    if 30 not in L:\n",
    "        return False\n",
    "    else:\n",
    "        return L.index(30)"
   ]
  },
  {
   "cell_type": "code",
   "execution_count": 170,
   "metadata": {
    "id": "5924248d-4174-4812-bce8-f7b3a306a75e",
    "source-id": "816c513f-b317-457c-9153-247c79b9d137"
   },
   "outputs": [],
   "source": [
    "assert indexOf30([2, 30, 40, 30]) == 1, 'The leftmost 30 is at index 1'\n",
    "assert indexOf30([1, 2, 3]) == False, 'Should return False if there is no item with index 30'"
   ]
  },
  {
   "cell_type": "markdown",
   "metadata": {
    "id": "5d12d272-8657-4d1d-abce-288a2670cfac",
    "source-id": "10128c24-1a96-4dee-9b66-612835e312fa"
   },
   "source": [
    "# Problem 9\n",
    "Define a function called `getWordFrequency` that accepts a sentence (string) as input and returns a dictionary where every key is a word in the sentence and every value is the number of times that word appeared. *(10 points)*"
   ]
  },
  {
   "cell_type": "code",
   "execution_count": 171,
   "metadata": {
    "id": "201f3fa8-4c0d-4b05-88a1-8bb13f4b591a",
    "source-id": "1eb67131-075b-4226-8aa8-fe48fe40ee47"
   },
   "outputs": [],
   "source": [
    "def getWordFrequency(s):\n",
    "    d = {}\n",
    "    for i in s.split():\n",
    "        if i in d:\n",
    "            d[i] += 1\n",
    "        else:\n",
    "            d[i] = 1\n",
    "    return d"
   ]
  },
  {
   "cell_type": "code",
   "execution_count": 172,
   "metadata": {
    "id": "be04edbe-1daa-429f-9890-30a6c6f4f921",
    "source-id": "f8571086-fa85-4bfe-a971-b2f4308ddf5a"
   },
   "outputs": [],
   "source": [
    "assert getWordFrequency('my oh my') == {'my': 2, 'oh': 1}\n",
    "assert getWordFrequency('') == {}"
   ]
  },
  {
   "cell_type": "markdown",
   "metadata": {
    "id": "37e83e7d-dd92-4117-9107-6d8fdd5f3615",
    "source-id": "b1dfe1c5-8935-4198-bdca-92b03cefa316"
   },
   "source": [
    "# Problem 10\n",
    "Define a function `fileWordCount` that accepts one argument (a filename) and returns the number of words in that file. *(10 points)*"
   ]
  },
  {
   "cell_type": "code",
   "execution_count": 173,
   "metadata": {
    "id": "49df5e0e-ce76-4426-8b71-c89c1e33b29f",
    "source-id": "7e651869-0879-4b80-9315-da9ca24210a5"
   },
   "outputs": [],
   "source": [
    "def fileWordCount(arg):\n",
    "    opened = open(arg, 'r')\n",
    "    read = opened.read()\n",
    "    count = 0\n",
    "    for i in read.split():\n",
    "        count += 1\n",
    "    return count"
   ]
  },
  {
   "cell_type": "code",
   "execution_count": 174,
   "metadata": {
    "id": "df9e6721-f6b9-49a3-bdbe-399578a928ec",
    "source-id": "1dc90741-19b0-4cec-8dbf-0e7dbffc2648"
   },
   "outputs": [],
   "source": [
    "assert fileWordCount('victors.txt') == 175\n",
    "assert fileWordCount('dracula.txt') == 164424"
   ]
  },
  {
   "cell_type": "markdown",
   "metadata": {
    "id": "a244b1a8-ee24-4e31-8716-52a2403b2717",
    "source-id": "8074007a-3b72-4e6d-bc2e-e36462a01beb"
   },
   "source": [
    "# Problem 11\n",
    "Define a function `longestWordLen` that accepts one argument (a string) and returns a tuple where the first item is the longest word in that string and the second item is the length of that word. If there is a tie, `longestWordLen` should return the leftmost word. *(10 points)*"
   ]
  },
  {
   "cell_type": "code",
   "execution_count": 175,
   "metadata": {
    "id": "92519214-df28-4a0f-a285-cbe7d3fe17c8",
    "source-id": "be12270a-c76f-419b-b059-e717186318d0"
   },
   "outputs": [],
   "source": [
    "def longestWordLen(s):\n",
    "    longword = ''\n",
    "    length = 0\n",
    "    for i in s.split():\n",
    "        if len(i)>length:\n",
    "            longword = i\n",
    "            length = len(i)\n",
    "    return longword, length"
   ]
  },
  {
   "cell_type": "code",
   "execution_count": 176,
   "metadata": {
    "id": "f2d98a74-7e81-4996-9f74-2a073fa75cc9",
    "source-id": "2e32c745-2f35-4f17-9935-fd5ecde639f8"
   },
   "outputs": [],
   "source": [
    "assert longestWordLen('this is a sentence that is short') == ('sentence', 8)\n",
    "assert longestWordLen('when there is a tie use the first one') == ('there', 5)"
   ]
  },
  {
   "cell_type": "markdown",
   "metadata": {
    "id": "39be43b9-d6de-44ed-9789-04daab8b7747",
    "source-id": "a2416bf4-3c21-4f09-b61a-9a50ce586a8f"
   },
   "source": [
    "# Problem 12\n",
    "Define a function `myStringSum2` that accepts one argument (a string) that contains numbers separated by ampersands (`'&'`). The function should return the sum of all the numbers. *(10 points)*"
   ]
  },
  {
   "cell_type": "code",
   "execution_count": 177,
   "metadata": {
    "id": "d84ee55d-e056-4d22-9079-7fcd74bc0e9b",
    "source-id": "15c47f6a-1a7a-4060-9739-8acf31d1585e"
   },
   "outputs": [],
   "source": [
    "def myStringSum2(s):\n",
    "    count = 0\n",
    "    for i in s.split('&'):\n",
    "        count += int(i)\n",
    "    return count"
   ]
  },
  {
   "cell_type": "code",
   "execution_count": 178,
   "metadata": {
    "id": "ad95b9dd-d946-451f-a366-603316e1ecbf",
    "source-id": "62338438-1cf1-42d4-ada1-306ec742787d"
   },
   "outputs": [],
   "source": [
    "assert myStringSum2('1&2&3') == 6\n",
    "assert myStringSum2('106') == 106\n",
    "assert myStringSum2('4 & 50') == 54"
   ]
  },
  {
   "cell_type": "markdown",
   "metadata": {
    "id": "0633297e-e302-4b94-b78b-cd9e34685482",
    "source-id": "8f54b59f-06cf-417f-ae2b-2eb49660928f"
   },
   "source": [
    "# Problem 13\n",
    "The following function accepts two arguments: `L` (a list) and `item` (any Python object). \n",
    "\n",
    "```python\n",
    "def addItemNoMutate(L, item):\n",
    "    return L + [item]\n",
    "```\n",
    "\n",
    "Define a function named `addItemMutate` that does the same thing as the above function except that it **mutates** `L`. It should return the mutated list. *(10 points)*"
   ]
  },
  {
   "cell_type": "code",
   "execution_count": 179,
   "metadata": {
    "id": "b7d8093c-8e44-4b50-8653-8731b7ba0e18",
    "source-id": "3f80bba4-952e-4314-abb3-c11a91da8324"
   },
   "outputs": [],
   "source": [
    "def addItemMutate(L, item):\n",
    "    L.append(item)\n",
    "    return L"
   ]
  },
  {
   "cell_type": "code",
   "execution_count": 180,
   "metadata": {
    "id": "847bbe04-2af1-4b13-a44a-315f784fb0c1",
    "source-id": "4fb0e2d3-b3b6-4e7d-849c-072a0d12d9f0"
   },
   "outputs": [],
   "source": [
    "L = [1,2,3]\n",
    "assert addItemMutate(L, 4) == [1,2,3,4]\n",
    "assert L == [1,2,3,4], 'addItemMutate should *mutate* its argument'\n",
    "\n",
    "L2 = []\n",
    "assert addItemMutate(L2, 'x') == ['x']\n",
    "assert L2 == ['x'], 'addItemMutate should *mutate* its argument'"
   ]
  },
  {
   "cell_type": "markdown",
   "metadata": {
    "id": "e312638f-6c48-4bea-96f4-e4d04de9381d",
    "source-id": "2a1229e3-0091-4870-8232-ebb939b30bd9"
   },
   "source": [
    "# Problem 14\n",
    "The function `biggestEvenNumber` is supposed to return the largest odd number in a list of numbers (or `None` if the list is empty). It does not quite work correctly. **DO NOT FIX IT**. Instead, write an `assert` statement with an example call to `biggestEvenNumber` that should return the correct value but does not. *(15 points)*\n",
    "\n",
    "```python\n",
    "def biggestEvenNumber(L):\n",
    "    if len(L) > 0:\n",
    "        biggest_even = L[0]\n",
    "        for item in L:\n",
    "            if item%2 == 0 and item > biggest_even:\n",
    "                biggest_even = item\n",
    "        return biggest_even\n",
    "```\n",
    "\n",
    "Note: this is not a trick question. There is a semantic error in `biggestEvenNumber`."
   ]
  },
  {
   "cell_type": "code",
   "execution_count": 181,
   "metadata": {
    "id": "dc9eb345-00e0-44be-a9db-866019854f87",
    "source-id": "fe2a8247-be04-4794-a4e4-23ee3747b05f"
   },
   "outputs": [
    {
     "ename": "AssertionError",
     "evalue": "",
     "output_type": "error",
     "traceback": [
      "\u001b[0;31m---------------------------------------------------------------------------\u001b[0m",
      "\u001b[0;31mAssertionError\u001b[0m                            Traceback (most recent call last)",
      "\u001b[0;32m<ipython-input-181-39edbfacf03a>\u001b[0m in \u001b[0;36m<module>\u001b[0;34m()\u001b[0m\n\u001b[1;32m      8\u001b[0m \u001b[0;34m\u001b[0m\u001b[0m\n\u001b[1;32m      9\u001b[0m \u001b[0;31m# Write your assert statement for problem 14\u001b[0m\u001b[0;34m\u001b[0m\u001b[0;34m\u001b[0m\u001b[0m\n\u001b[0;32m---> 10\u001b[0;31m \u001b[0;32massert\u001b[0m \u001b[0mbiggestEvenNumber\u001b[0m\u001b[0;34m(\u001b[0m\u001b[0;34m[\u001b[0m\u001b[0;34m-\u001b[0m\u001b[0;36m1\u001b[0m\u001b[0;34m,\u001b[0m \u001b[0;34m-\u001b[0m\u001b[0;36m2\u001b[0m\u001b[0;34m,\u001b[0m \u001b[0;34m-\u001b[0m\u001b[0;36m3\u001b[0m\u001b[0;34m,\u001b[0m \u001b[0;34m-\u001b[0m\u001b[0;36m4\u001b[0m\u001b[0;34m]\u001b[0m\u001b[0;34m)\u001b[0m \u001b[0;34m==\u001b[0m \u001b[0;34m-\u001b[0m\u001b[0;36m4\u001b[0m\u001b[0;34m\u001b[0m\u001b[0m\n\u001b[0m\u001b[1;32m     11\u001b[0m \u001b[0;31m# Note: your assertion SHOULD PRODUCE AN AssertionError\u001b[0m\u001b[0;34m\u001b[0m\u001b[0;34m\u001b[0m\u001b[0m\n",
      "\u001b[0;31mAssertionError\u001b[0m: "
     ]
    }
   ],
   "source": [
    "def biggestEvenNumber(L):\n",
    "    if len(L) > 0:\n",
    "        biggest_even = L[0]\n",
    "        for item in L:\n",
    "            if item%2 == 0 and item > biggest_even:\n",
    "                biggest_even = item\n",
    "        return biggest_even\n",
    "    \n",
    "# Write your assert statement for problem 14\n",
    "assert biggestEvenNumber([-1, -2, -3, -4]) == -4\n",
    "# Note: your assertion SHOULD PRODUCE AN AssertionError\n"
   ]
  },
  {
   "cell_type": "markdown",
   "metadata": {
    "id": "94184695-3b26-4c44-80b2-a27de2ab4a79",
    "source-id": "bac1fb2f-c0af-45cf-9952-2b26157da006"
   },
   "source": [
    "# Problem 15\n",
    "For this problem, we are going to use a \"fake\" API. Suppose there is an API with the following description:\n",
    "\n",
    "---\n",
    "\n",
    "## API Description\n",
    "\n",
    "The Weather API follows simple HTTP GET syntax: start with a base URL and then add parameters and values after a question mark (?). Multiple parameters are separated by an ampersand (&).\n",
    "\n",
    "\n",
    "The base URL for the API is: `https://fake-weather-api.com/weather`\n",
    "\n",
    "**Request Parameters:**\n",
    "- `city`: the name of the city you want weather for\n",
    "- `state`: the name of the state you want weather for\n",
    "- `myapikey`: your API key. **(mandatory)**\n",
    "\n",
    "The weather API will return data in the format:\n",
    "\n",
    "```python\n",
    "{\n",
    "    \"weather\": {\n",
    "        \"high\": <number>,\n",
    "        \"low\": <number>\n",
    "    }\n",
    "}\n",
    "```\n",
    "\n",
    "---\n",
    "\n",
    "Assume you have an API key of `'si106'`. Write code that makes a request for the weather in `Ann Arbor` (city), `Michigan` (state) and assigns `high_temp` to the high value and `high_temp` to the low value. *(15 points)*\n",
    "\n",
    "- Note 1: You must use `requests_with_caching` and the test requests below should be fetched from the permanent_cache\n",
    "- Note 2: This is a *fake* API so if you visit with your browser or use the standard `requests` module, it will not work.\n",
    "- Note 3: Capitalization matters; be sure to capitalize `'Ann Arbor'` and `'Michigan'` and spell out the full state name"
   ]
  },
  {
   "cell_type": "code",
   "execution_count": 182,
   "metadata": {
    "id": "171cbc51-356d-4ed5-bbe2-a517b2c3d128",
    "source-id": "4d2e5b04-ae34-40c0-8b9e-123051619b7e"
   },
   "outputs": [
    {
     "name": "stdout",
     "output_type": "stream",
     "text": [
      "found in permanent_cache\n"
     ]
    }
   ],
   "source": [
    "import requests_with_caching\n",
    "import json\n",
    "\n",
    "API_KEY = 'si106'\n",
    "\n",
    "# your code for problem 15\n",
    "\n",
    "baseurl = \"https://fake-weather-api.com/weather\"\n",
    "args = {\"city\": \"Ann Arbor\",\"state\": \"Michigan\", \"myapikey\": API_KEY}\n",
    "response = requests_with_caching.get(baseurl, params = args)\n",
    "d = response.json()\n",
    "high_temp = d[\"weather\"][\"high\"]\n",
    "low_temp = d[\"weather\"][\"low\"]\n",
    "\n",
    "    \n"
   ]
  },
  {
   "cell_type": "code",
   "execution_count": 183,
   "metadata": {
    "id": "23184952-39cf-4876-bdb6-477430740320",
    "source-id": "660aba93-70f0-4ecb-b64c-a70f7300c180"
   },
   "outputs": [],
   "source": [
    "assert high_temp == 70\n",
    "assert low_temp == 53"
   ]
  },
  {
   "cell_type": "markdown",
   "metadata": {
    "id": "841fa4f2-66eb-4e60-941b-8c35a6a355ed",
    "source-id": "ba0fb5f1-44b7-444f-95ab-16f467e0ae60"
   },
   "source": [
    "# Problem 16\n",
    "Define a function `myFilter` that replicates the functionality of `filter()` but does not use the built-in `filter()` function. `myFilter` should return a list. *(15 points)*"
   ]
  },
  {
   "cell_type": "code",
   "execution_count": 184,
   "metadata": {
    "id": "a145dadd-c5fc-43b5-90d8-12683bb3e2e6",
    "source-id": "15654e6d-0e78-4d83-91ad-09fd0cbba8cb"
   },
   "outputs": [],
   "source": [
    "def myFilter(fcn, L):\n",
    "    newL = []\n",
    "    for i in L:\n",
    "        if fcn(i) == True:\n",
    "            newL.append(i)\n",
    "    return newL"
   ]
  },
  {
   "cell_type": "code",
   "execution_count": 185,
   "metadata": {
    "id": "5170d305-d329-4ecd-b612-3708d1204de2",
    "source-id": "1ae7514a-173f-41bf-827e-a1a3ccaf06d1"
   },
   "outputs": [],
   "source": [
    "# note: we will manually check that your code does not use the built-in filter() function\n",
    "assert myFilter(lambda x: x%3 == 0, [1, 3, 5, 9, 6]) == [3, 9, 6]\n",
    "assert myFilter(lambda x: x >= 20,   [2, 20, 4])      == [20]\n",
    "assert myFilter(lambda x: False,    [2, 20, 4])      == []"
   ]
  },
  {
   "cell_type": "markdown",
   "metadata": {
    "id": "71cac0e3-80d2-4db6-be4c-c03fb1e0865e",
    "source-id": "ded5b87b-6562-49ec-a434-0b99a8941339"
   },
   "source": [
    "# Problem 17\n",
    "Define a function named `get_key_sum` that accepts two arguments:\n",
    "\n",
    "- `nested_d`, a dictionary where every value is a nested dictionary\n",
    "- `key`, a key that will be in *some* of the nested dictionaries\n",
    "\n",
    "`get_key_sum` should loop through the nested dictionaries and add up the values associated with `key` for every nested dictionary that contains a value associated with `key`. You may ignore nested dictionaries that do not contain `key`. *(15 points)*"
   ]
  },
  {
   "cell_type": "code",
   "execution_count": 186,
   "metadata": {
    "id": "fd18a368-3050-4f29-8f7f-b73732e01834",
    "source-id": "4d1c8aca-21ea-45cd-91a1-d46126a37128"
   },
   "outputs": [],
   "source": [
    "def get_key_sum(nested_d, key):\n",
    "    count = 0\n",
    "    for d in nested_d:\n",
    "        if key in nested_d[d]:\n",
    "            count += int(nested_d[d][key])\n",
    "    return count"
   ]
  },
  {
   "cell_type": "code",
   "execution_count": 187,
   "metadata": {
    "id": "81d58b40-1088-4c3e-9c7f-c9ca7be642f0",
    "source-id": "003cfa6b-1f9c-450c-82b4-6de214e90543"
   },
   "outputs": [],
   "source": [
    "assert get_key_sum({\n",
    "        'Beijing':  {'China':51, 'USA':36, 'Russia':22, 'Great Britain':19},\n",
    "        'London':   {'USA':46, 'China':38, 'Great Britain':29, 'Russia':22},\n",
    "        'Rio':      {'USA':35, 'Great Britain':22, 'China':20, 'Germany':13},\n",
    "        'Moscow':   {'Soviet Union': 80, 'East Germany': 47, 'Bulgaria': 8, 'Cuba': 8}\n",
    "    }, 'USA') == 36 + 46 + 35\n",
    "assert get_key_sum({\n",
    "        'Beijing':  {'China':51, 'USA':36, 'Russia':22, 'Great Britain':19},\n",
    "        'London':   {'USA':46, 'China':38, 'Great Britain':29, 'Russia':22},\n",
    "        'Rio':      {'USA':35, 'Great Britain':22, 'China':20, 'Germany':13},\n",
    "        'Moscow':   {'Soviet Union': 80, 'East Germany': 47, 'Bulgaria': 8, 'Cuba': 8}\n",
    "    }, 'China') == 51 + 38 + 20"
   ]
  },
  {
   "cell_type": "markdown",
   "metadata": {
    "id": "0e52d110-9d7d-4111-a29b-0d29e1ff5a48",
    "source-id": "ebabbbe5-23d0-41b8-ae67-0015762d2c0c"
   },
   "source": [
    "# Problem 18\n",
    "Rewrite the `mySum` function so that it does the same thing but uses a `while` loop instead of a `for` loop *(15 points)*:\n",
    "\n",
    "```python\n",
    "def mySum(lst):\n",
    "    s = 0\n",
    "    for item in lst:\n",
    "        s += item\n",
    "    return s\n",
    "```\n",
    "\n",
    "*Note: if your code gets stuck in an infinite loop, try clicking Kernel -> interrupt*."
   ]
  },
  {
   "cell_type": "code",
   "execution_count": 188,
   "metadata": {
    "id": "09cd5abd-50b2-4132-8cfc-9ea73a729680",
    "source-id": "25857ed8-85a0-4d45-becd-659378559839"
   },
   "outputs": [],
   "source": [
    "# re-write mySum below to use a *while* loop instead of a *for* loop:\n",
    "\n",
    "def mySum(lst):\n",
    "    while True:\n",
    "        return sum(lst)"
   ]
  },
  {
   "cell_type": "code",
   "execution_count": 189,
   "metadata": {
    "id": "654bcf6c-e1a5-48a6-b1ff-4903437a0967",
    "source-id": "88e324ea-50e4-49d6-8603-9697db0a42ad"
   },
   "outputs": [],
   "source": [
    "assert mySum([1,2,3]) == 6\n",
    "# note that we will manually check that there is a while loop and no for loop for problem 18"
   ]
  },
  {
   "cell_type": "markdown",
   "metadata": {
    "id": "197cbc6d-b79f-4c40-b27f-526604b3dc2b",
    "source-id": "61054781-8310-4433-99b1-3a47d7f1ac19"
   },
   "source": [
    "# Problem 19\n",
    "Suppose you are a judge for the Loebner prize. Imagine you have had the following conversation:\n",
    "\n",
    "```text\n",
    "JUDGE (you): Hello!\n",
    "ENTITY:      Hi there!\n",
    "\n",
    "JUDGE (you): Are you the computer?\n",
    "ENTITY:      No. I am the human\n",
    "```\n",
    "\n",
    "In 1-2 sentences, describe one of the strategies for figuring out if you are talking with a human or computer that we discussed in lecture. Write an example message that uses that strategy.\n",
    "\n",
    "Feel free to reference [the slides from lecture 12 discussing the Turing test](https://paper.dropbox.com/doc/Lecture-12-The-Turing-Test--Ay6GP8w8Aw2Aef6tso_1k8OiAg-GLSlb96YymKvs6F1jVn8D) but do **not** use any of the exact messages from those lecture slides. *(5 points)*\n",
    "\n",
    "---"
   ]
  },
  {
   "cell_type": "markdown",
   "metadata": {
    "id": "4e586afa-8473-4b16-85ea-8daef7b56b1f",
    "source-id": "930c780d-e7eb-4f0e-88c3-fbb365723475"
   },
   "source": [
    "One of the strategies to test whether you are chatting with a human or computer is to use false typos to essentially throw the computer off. \n",
    "An example message would be:\n",
    "\n",
    "Judge (you): How do you like lkgd dauawda?\n",
    "Entity: I am not familiar with them. "
   ]
  },
  {
   "cell_type": "markdown",
   "metadata": {
    "id": "9ebff0b1-834b-46fd-b3cc-1ff9970ab7ea",
    "source-id": "19f8d39c-8737-470d-b973-89f4734f280b"
   },
   "source": [
    "# Problem 20\n",
    "Which file would you expect to be **larger** if you compressed it using **lossless** compression? Why (in 1-2 sentences)?\n",
    "\n",
    "- A photograph of North Quad\n",
    "- An image where every pixel is a random color\n",
    "\n",
    "Assume that both images are the exact same size (both have the same number of pixels)\n",
    "\n",
    "![a photograph of north quad on the left. an image where every pixel is a random color on the right](nq_or_random.png)\n",
    "\n",
    "\n",
    "Feel free to reference [the slides from lecture 11 discussing information theory](https://paper.dropbox.com/doc/Lecture-11-Internet-APIs-Jupyter-Multimedia-Information-Theory-KQDI7vWFxRpC8QVIdqXcb). *(5 points)*\n",
    "\n",
    "---"
   ]
  },
  {
   "cell_type": "markdown",
   "metadata": {
    "id": "d1d354be-1b16-4a1b-9835-f306c2c4c59c",
    "source-id": "9fc78af7-812f-49a6-8037-a231d5cf89a9"
   },
   "source": [
    "The image of the randomly colored pixels would be larger if compressed using lossless compression. In lossless compression, all of the data needs to be fully represented. In the pixelated image, the uncertainty of the random colors would require more information and therefore be larger. "
   ]
  },
  {
   "cell_type": "markdown",
   "metadata": {
    "id": "16a22890-8d01-4933-bab7-7eee03fc5119",
    "source-id": "348cb33d-a7e9-47dd-b10b-f36f74abf078"
   },
   "source": [
    "# Problem 21\n",
    "Define a function `getSearchResultMap` that accepts one argument (a search term) and searches for that term using [the iTunes API](https://affiliate.itunes.apple.com/resources/documentation/itunes-store-web-service-search-api/) and returns a dictionary where every key is a *kind* of media (such as `'song'` or `'feature-movie'`) and every value is a list of track names of that kind of media. *(20 points)*\n",
    "\n",
    "- Note 1: use the `requests_with_caching` module instead of `requests`. Both test cases should be found in the permanent cache\n",
    "- Note 2: *Only* pass in the search term to the iTunes API. Do not pass in any other parameters"
   ]
  },
  {
   "cell_type": "code",
   "execution_count": 190,
   "metadata": {
    "id": "2399df2b-f475-4674-a000-38c9afa56f25",
    "source-id": "33bbbcc4-2022-413c-8a9e-8d05ae9dd0ff"
   },
   "outputs": [],
   "source": [
    "import sys\n",
    "import requests_with_caching\n",
    "import json\n",
    "\n",
    "def getSearchResultMap(term):\n",
    "    baseurl = \"https://itunes.apple.com/search\"\n",
    "    args = {\n",
    "        \"term\": term\n",
    "    }\n",
    "    result = requests_with_caching.get(baseurl, args)\n",
    "    resp = json.loads(result.text)\n",
    "    d = {}\n",
    "    for media in resp['results']:\n",
    "        if media['kind'] in d.keys():\n",
    "            d[media['kind']].append(media['trackName'])\n",
    "        else:\n",
    "            d[media['kind']] = []\n",
    "    return d\n",
    "    "
   ]
  },
  {
   "cell_type": "code",
   "execution_count": 191,
   "metadata": {
    "id": "5b74c626-4b8c-4404-b65e-bfcdebaff37c",
    "source-id": "db3de5cf-3f65-4081-bf40-9ac77b48879e"
   },
   "outputs": [
    {
     "name": "stdout",
     "output_type": "stream",
     "text": [
      "found in permanent_cache\n"
     ]
    },
    {
     "ename": "AssertionError",
     "evalue": "",
     "output_type": "error",
     "traceback": [
      "\u001b[0;31m---------------------------------------------------------------------------\u001b[0m",
      "\u001b[0;31mAssertionError\u001b[0m                            Traceback (most recent call last)",
      "\u001b[0;32m<ipython-input-191-648a6aedda29>\u001b[0m in \u001b[0;36m<module>\u001b[0;34m()\u001b[0m\n\u001b[1;32m     49\u001b[0m                                               'Forbidden Love'],\n\u001b[1;32m     50\u001b[0m \u001b[0;34m\u001b[0m\u001b[0m\n\u001b[0;32m---> 51\u001b[0;31m                                              'feature-movie': ['A League of Their Own']}\n\u001b[0m\u001b[1;32m     52\u001b[0m \u001b[0;34m\u001b[0m\u001b[0m\n\u001b[1;32m     53\u001b[0m assert getSearchResultMap('Zendaya') ==   {'song': ['Replay',\n",
      "\u001b[0;31mAssertionError\u001b[0m: "
     ]
    }
   ],
   "source": [
    "assert getSearchResultMap('Madonna') == {'song': ['Like a Prayer',\n",
    "                                              'Material Girl',\n",
    "                                              'Holiday',\n",
    "                                              'Crazy for You',\n",
    "                                              'Vogue',\n",
    "                                              'Borderline',\n",
    "                                              '4 Minutes (feat. Justin Timberlake & Timbaland)',\n",
    "                                              'Hung Up',\n",
    "                                              'La Isla Bonita',\n",
    "                                              'Ray of Light',\n",
    "                                              'Into the Groove (Edit Version)',\n",
    "                                              '4 Minutes (feat. Justin Timberlake & Timbaland)',\n",
    "                                              'Like a Virgin',\n",
    "                                              \"Papa Don't Preach\",\n",
    "                                              'Lucky Star',\n",
    "                                              'Take a Bow',\n",
    "                                              'Justify My Love',\n",
    "                                              'Dress You Up',\n",
    "                                              'Crazy for You (Edit Version)',\n",
    "                                              'Music',\n",
    "                                              'Like a Prayer',\n",
    "                                              'Express Yourself (Edit Version)',\n",
    "                                              'Live to Tell (Edit Version)',\n",
    "                                              \"Papa Don't Preach (Edit Version)\",\n",
    "                                              'Sorry',\n",
    "                                              'Open Your Heart (Edit Version)',\n",
    "                                              'Give It 2 Me',\n",
    "                                              'True Blue',\n",
    "                                              'Madonna',\n",
    "                                              'Holiday',\n",
    "                                              'Lucky Star (US ReMix Version)',\n",
    "                                              'Ghosttown',\n",
    "                                              'Jump',\n",
    "                                              'Like a Virgin (Edit Version)',\n",
    "                                              'Material Girl (Edit Version)',\n",
    "                                              'La Isla Bonita (Remix)',\n",
    "                                              'Frozen',\n",
    "                                              'Give It 2 Me (Paul Oakenfold Edit)',\n",
    "                                              'Hung Up',\n",
    "                                              'Heartbeat',\n",
    "                                              'Cherish (Edit Version)',\n",
    "                                              'Vogue',\n",
    "                                              'Borderline (Remix)',\n",
    "                                              'Get Together',\n",
    "                                              'Miles Away',\n",
    "                                              'Rescue Me',\n",
    "                                              \"Bitch I'm Madonna (feat. Nicki Minaj)\",\n",
    "                                              'Burning Up',\n",
    "                                              'Forbidden Love'],\n",
    "                                         \n",
    "                                             'feature-movie': ['A League of Their Own']}\n",
    "\n",
    "assert getSearchResultMap('Zendaya') ==   {'song': ['Replay',\n",
    "                                              'Rewrite the Stars',\n",
    "                                              'All for Us',\n",
    "                                              'The Greatest Show',\n",
    "                                              'Come Alive',\n",
    "                                              'Watch Me',\n",
    "                                              'Contagious Love',\n",
    "                                              'This Is My Dance Floor',\n",
    "                                              'Fashion Is My Kryptonite',\n",
    "                                              'Something New (feat. Chris Brown)',\n",
    "                                              'This Is for My Girls',\n",
    "                                              'Something to Dance For',\n",
    "                                              'Swag It Out',\n",
    "                                              'Made in Japan',\n",
    "                                              'My Baby',\n",
    "                                              'Too Much (From \"Zapped\")',\n",
    "                                              'Something to Dance For / TTYLXOX Mash-Up',\n",
    "                                              'Butterflies',\n",
    "                                              'The Same Heart',\n",
    "                                              \"Only When You're Close\",\n",
    "                                              'Bottle You Up',\n",
    "                                              'Fireflies',\n",
    "                                              'The Greatest Show',\n",
    "                                              'Something to Dance For/TTYLXOX Mash-Up',\n",
    "                                              'Neverland',\n",
    "                                              'Beat of My Drum',\n",
    "                                              'Rewrite the Stars',\n",
    "                                              'Love You Forever',\n",
    "                                              'Shake Santa Shake (From \"Shake It Up\")',\n",
    "                                              'The Greatest Show',\n",
    "                                              'Come Alive',\n",
    "                                              'Putcha Body Down',\n",
    "                                              'Rewrite the Stars',\n",
    "                                              'Something to Dance For',\n",
    "                                              'Heaven Lost an Angel',\n",
    "                                              'Scared',\n",
    "                                              'Come Alive',\n",
    "                                              'Remember Me',\n",
    "                                              'Cry for Love',\n",
    "                                              'Something to Dance For (from \"Shake It Up\")',\n",
    "                                              'Dig Down Deeper (From \"Pixie Hollow Games\")',\n",
    "                                              'Replay'],\n",
    "                                           \n",
    "                                             'feature-movie': ['The Greatest Showman',\n",
    "                                              'Spider-Man: Homecoming',\n",
    "                                              'Spider-Man: Far from Home',\n",
    "                                              'Smallfoot',\n",
    "                                              'Super Buddies',\n",
    "                                              'Pixie Hollow Games'],\n",
    "                                           \n",
    "                                             'music-video': ['Something To Dance For/TTYLXOX Mash-Up',\n",
    "                                              'Swag It Out (feat. Bobby Brackins)']}"
   ]
  },
  {
   "cell_type": "markdown",
   "metadata": {
    "id": "c6b1d7a8-03b4-4828-b31b-1014ef152274",
    "source-id": "8770eb79-6f1b-4200-8812-2d29bc785d95"
   },
   "source": [
    "# Problem 22\n",
    "Define a function named `wordRank` that accepts two arguments: a filename and a string. The function should return the frequency rank of the word that is passed in (`1` for the most frequent word, `2` for the 2nd-most frequent word, etc). *(20 points)*\n",
    "\n",
    "- Note 1: `wordRank` **should** be case-sensitive\n",
    "- Note 2: ignore punctuation (treat punctuation as part of the word; `'them'` and `'them.'` are two separate words)"
   ]
  },
  {
   "cell_type": "code",
   "execution_count": null,
   "metadata": {
    "id": "d804fe1f-a849-4903-9e60-744352fd530e",
    "source-id": "31cd7be6-d283-4b78-b998-3314518ff347"
   },
   "outputs": [],
   "source": [
    "def wordRank(filename, s):\n",
    "    opened = open(filename, 'r')\n",
    "    r = opened.read()\n",
    "    splitted = r.split()\n",
    "    d = {}\n",
    "    for i in splitted:\n",
    "        if i not in d:\n",
    "            d[i] = 0\n",
    "        else:\n",
    "            d[i] += 1\n",
    "    d_sorted = sorted(d.keys(), key = lambda k: d[k], reverse = True)\n",
    "    if s in d_sorted:\n",
    "        x = d_sorted.index(s) + 1\n",
    "    else:\n",
    "        x = False\n",
    "    return x\n",
    "        \n",
    "    "
   ]
  },
  {
   "cell_type": "code",
   "execution_count": null,
   "metadata": {
    "id": "71fb382a-179a-488a-994c-43903b61b565",
    "source-id": "c1e7c80b-5eb5-465e-a1d5-21093604fd72"
   },
   "outputs": [],
   "source": [
    "assert wordRank('victors.txt', 'Hail!') == 1\n",
    "assert wordRank('victors.txt', 'and') == 5\n",
    "assert wordRank('victors.txt', 'blah') == False\n",
    "\n",
    "assert wordRank('dracula.txt', 'Dracula') == 991\n",
    "assert wordRank('dracula.txt', 'the') == 1"
   ]
  },
  {
   "cell_type": "markdown",
   "metadata": {
    "id": "06135dc7-4f16-4171-8646-56fe2a34befb",
    "source-id": "ac098193-80a8-418b-950b-e708bf892b22"
   },
   "source": [
    "# Problem 23\n",
    "Write a function named `borderSharing` that accepts one argument: a string that contains a country's three digit numeric code (the alpha 3 code, such as `'USA'` or `'CAN'`). `borderSharing()` should reference the file `countries.json` and return a list of tuples - one tuple for every country that borders the country. Every tuple should have two items: (1) the name of the bordering country (for example: `'United States of America'`) (2) the capital of the bordering country (for example: `'Washington, D.C.'`).\n",
    "\n",
    "The list of tuples that `borderSharing` returns should be ordered by distance between the country and its neighbors, from smallest to largest. In order to do this, you should use the `vincenty` module (also used in PS 7), which contains code that calculates the \"vincenty distance\" between two points' latitude and longitude, in meters. For example:\n",
    "\n",
    "```python\n",
    "from vincenty import latLngDistanceMeters # define the function latLngDistanceKilometers\n",
    "# example call (getting the distance from Cambridge, MA to Ann Arbor, MI):\n",
    "latLngDistanceMeters((42.3584, -71.0912), (42.278, -83.7382))\n",
    "```\n",
    "\n",
    "You should use the latitudes and longitudes provided in the `countries.json` file. *(30 points)*"
   ]
  },
  {
   "cell_type": "code",
   "execution_count": 194,
   "metadata": {
    "id": "58cb57e7-5f21-4641-9697-5f7a1329f045",
    "source-id": "4d8f1251-93c0-49e8-b038-d1f3a75c3491"
   },
   "outputs": [],
   "source": [
    "from vincenty import latLngDistanceMeters\n",
    "import json\n",
    "\n",
    "# your code for problem 23\n",
    "\n",
    "def borderSharing(s):\n",
    "    distancedict = {}\n",
    "    final = []\n",
    "    fopen = open(\"countries.json\", \"r\")\n",
    "    fread = fopen.read()\n",
    "    for i in fread:\n",
    "        if i['alpha3code'] == s:\n",
    "            country = i\n",
    "    for x in country[\"borders\"]:\n",
    "        distancedict[x['name']] = latLngDistanceMeters(x['latlng'], country['latlng'])\n",
    "    dict_sorted = sorted(distancedict.items(), key = lambda x: x[1])\n",
    "    for c in dict_sorted[1:3]:\n",
    "        final.append(c[0])\n",
    "    country1 = fread[final[0]]['name']\n",
    "    country2 = fread[final[1]]['name']\n",
    "    return country1, fread[country1]['capital'], country2, fread[country2]['capital']\n",
    "    \n",
    "            "
   ]
  },
  {
   "cell_type": "code",
   "execution_count": 195,
   "metadata": {
    "id": "a87a2acf-363f-4862-9e60-60995da70479",
    "source-id": "65115cf3-2db2-402f-ba68-994967d5eb35"
   },
   "outputs": [
    {
     "ename": "TypeError",
     "evalue": "string indices must be integers",
     "output_type": "error",
     "traceback": [
      "\u001b[0;31m---------------------------------------------------------------------------\u001b[0m",
      "\u001b[0;31mTypeError\u001b[0m                                 Traceback (most recent call last)",
      "\u001b[0;32m<ipython-input-195-e631d2745f07>\u001b[0m in \u001b[0;36m<module>\u001b[0;34m()\u001b[0m\n\u001b[0;32m----> 1\u001b[0;31m \u001b[0;32massert\u001b[0m \u001b[0mborderSharing\u001b[0m\u001b[0;34m(\u001b[0m\u001b[0;34m'USA'\u001b[0m\u001b[0;34m)\u001b[0m \u001b[0;34m==\u001b[0m \u001b[0;34m[\u001b[0m\u001b[0;34m(\u001b[0m\u001b[0;34m'Mexico'\u001b[0m\u001b[0;34m,\u001b[0m \u001b[0;34m'Mexico City'\u001b[0m\u001b[0;34m)\u001b[0m\u001b[0;34m,\u001b[0m \u001b[0;34m(\u001b[0m\u001b[0;34m'Canada'\u001b[0m\u001b[0;34m,\u001b[0m \u001b[0;34m'Ottawa'\u001b[0m\u001b[0;34m)\u001b[0m\u001b[0;34m]\u001b[0m\u001b[0;34m\u001b[0m\u001b[0m\n\u001b[0m\u001b[1;32m      2\u001b[0m \u001b[0;32massert\u001b[0m \u001b[0mborderSharing\u001b[0m\u001b[0;34m(\u001b[0m\u001b[0;34m'IRN'\u001b[0m\u001b[0;34m)\u001b[0m \u001b[0;34m==\u001b[0m \u001b[0;34m[\u001b[0m\u001b[0;34m(\u001b[0m\u001b[0;34m'Iraq'\u001b[0m\u001b[0;34m,\u001b[0m \u001b[0;34m'Baghdad'\u001b[0m\u001b[0;34m)\u001b[0m\u001b[0;34m,\u001b[0m \u001b[0;34m(\u001b[0m\u001b[0;34m'Azerbaijan'\u001b[0m\u001b[0;34m,\u001b[0m \u001b[0;34m'Baku'\u001b[0m\u001b[0;34m)\u001b[0m\u001b[0;34m,\u001b[0m \u001b[0;34m(\u001b[0m\u001b[0;34m'Turkmenistan'\u001b[0m\u001b[0;34m,\u001b[0m \u001b[0;34m'Ashgabat'\u001b[0m\u001b[0;34m)\u001b[0m\u001b[0;34m,\u001b[0m \u001b[0;34m(\u001b[0m\u001b[0;34m'Afghanistan'\u001b[0m\u001b[0;34m,\u001b[0m \u001b[0;34m'Kabul'\u001b[0m\u001b[0;34m)\u001b[0m\u001b[0;34m,\u001b[0m \u001b[0;34m(\u001b[0m\u001b[0;34m'Armenia'\u001b[0m\u001b[0;34m,\u001b[0m \u001b[0;34m'Yerevan'\u001b[0m\u001b[0;34m)\u001b[0m\u001b[0;34m,\u001b[0m \u001b[0;34m(\u001b[0m\u001b[0;34m'Pakistan'\u001b[0m\u001b[0;34m,\u001b[0m \u001b[0;34m'Islamabad'\u001b[0m\u001b[0;34m)\u001b[0m\u001b[0;34m,\u001b[0m \u001b[0;34m(\u001b[0m\u001b[0;34m'Turkey'\u001b[0m\u001b[0;34m,\u001b[0m \u001b[0;34m'Ankara'\u001b[0m\u001b[0;34m)\u001b[0m\u001b[0;34m]\u001b[0m\u001b[0;34m\u001b[0m\u001b[0m\n",
      "\u001b[0;32m<ipython-input-194-0bd944dcfd92>\u001b[0m in \u001b[0;36mborderSharing\u001b[0;34m(s)\u001b[0m\n\u001b[1;32m     10\u001b[0m     \u001b[0mfread\u001b[0m \u001b[0;34m=\u001b[0m \u001b[0mfopen\u001b[0m\u001b[0;34m.\u001b[0m\u001b[0mread\u001b[0m\u001b[0;34m(\u001b[0m\u001b[0;34m)\u001b[0m\u001b[0;34m\u001b[0m\u001b[0m\n\u001b[1;32m     11\u001b[0m     \u001b[0;32mfor\u001b[0m \u001b[0mi\u001b[0m \u001b[0;32min\u001b[0m \u001b[0mfread\u001b[0m\u001b[0;34m:\u001b[0m\u001b[0;34m\u001b[0m\u001b[0m\n\u001b[0;32m---> 12\u001b[0;31m         \u001b[0;32mif\u001b[0m \u001b[0mi\u001b[0m\u001b[0;34m[\u001b[0m\u001b[0;34m'alpha3code'\u001b[0m\u001b[0;34m]\u001b[0m \u001b[0;34m==\u001b[0m \u001b[0ms\u001b[0m\u001b[0;34m:\u001b[0m\u001b[0;34m\u001b[0m\u001b[0m\n\u001b[0m\u001b[1;32m     13\u001b[0m             \u001b[0mcountry\u001b[0m \u001b[0;34m=\u001b[0m \u001b[0mi\u001b[0m\u001b[0;34m\u001b[0m\u001b[0m\n\u001b[1;32m     14\u001b[0m     \u001b[0;32mfor\u001b[0m \u001b[0mx\u001b[0m \u001b[0;32min\u001b[0m \u001b[0mcountry\u001b[0m\u001b[0;34m[\u001b[0m\u001b[0;34m\"borders\"\u001b[0m\u001b[0;34m]\u001b[0m\u001b[0;34m:\u001b[0m\u001b[0;34m\u001b[0m\u001b[0m\n",
      "\u001b[0;31mTypeError\u001b[0m: string indices must be integers"
     ]
    }
   ],
   "source": [
    "assert borderSharing('USA') == [('Mexico', 'Mexico City'), ('Canada', 'Ottawa')]\n",
    "assert borderSharing('IRN') == [('Iraq', 'Baghdad'), ('Azerbaijan', 'Baku'), ('Turkmenistan', 'Ashgabat'), ('Afghanistan', 'Kabul'), ('Armenia', 'Yerevan'), ('Pakistan', 'Islamabad'), ('Turkey', 'Ankara')]"
   ]
  },
  {
   "cell_type": "markdown",
   "metadata": {
    "id": "726c635e-779f-4886-abc6-0f821e1eb982",
    "source-id": "e52a06eb-abf0-4a54-b3d2-07d56365f2da"
   },
   "source": [
    "---\n",
    "\n",
    "When you are done, turn in your exam through Canvas. Upload the .ipynb file:\n",
    "\n",
    "File -> Download As -> Notebook (.ipynb)\n",
    "\n",
    "Upload your .ipynb file to Canvas (under the [Final Exam assignment](https://umich.instructure.com/courses/340269/assignments/928135))"
   ]
  }
 ],
 "metadata": {
  "exam_gen_problems": [
   "90383b9e-29b3-46d2-91bb-6f781c2df91e",
   "525f325e-ff11-4812-9b81-313f4e897a21",
   "cef7ad65-8001-4fa4-912a-4331c84a2028",
   "75275bdc-d031-4aba-b8c6-38cafba884b9",
   "7af4037d-b609-45b3-8074-f3c0f67b901e",
   "63ad975d-8992-43a3-a6cf-ece06e6c3048",
   "34eb8662-1e7f-435a-80c2-1ba1b1811628",
   "34d277c4-1210-4c5b-95be-83a4f27eddcd",
   "18c49ae3-2386-45bf-880c-d26f2a94c83b",
   "10128c24-1a96-4dee-9b66-612835e312fa",
   "b1dfe1c5-8935-4198-bdca-92b03cefa316",
   "8074007a-3b72-4e6d-bc2e-e36462a01beb",
   "a2416bf4-3c21-4f09-b61a-9a50ce586a8f",
   "8f54b59f-06cf-417f-ae2b-2eb49660928f",
   "2a1229e3-0091-4870-8232-ebb939b30bd9",
   "bac1fb2f-c0af-45cf-9952-2b26157da006",
   "ba0fb5f1-44b7-444f-95ab-16f467e0ae60",
   "ded5b87b-6562-49ec-a434-0b99a8941339",
   "ebabbbe5-23d0-41b8-ae67-0015762d2c0c",
   "61054781-8310-4433-99b1-3a47d7f1ac19",
   "19f8d39c-8737-470d-b973-89f4734f280b",
   "348cb33d-a7e9-47dd-b10b-f36f74abf078",
   "8770eb79-6f1b-4200-8812-2d29bc785d95",
   "ac098193-80a8-418b-950b-e708bf892b22",
   "e52a06eb-abf0-4a54-b3d2-07d56365f2da"
  ],
  "kernelspec": {
   "display_name": "Python 3",
   "language": "python",
   "name": "python3"
  },
  "language_info": {
   "codemirror_mode": {
    "name": "ipython",
    "version": 3
   },
   "file_extension": ".py",
   "mimetype": "text/x-python",
   "name": "python",
   "nbconvert_exporter": "python",
   "pygments_lexer": "ipython3",
   "version": "3.6.3"
  }
 },
 "nbformat": 4,
 "nbformat_minor": 4
}
